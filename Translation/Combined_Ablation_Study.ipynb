{
  "nbformat": 4,
  "nbformat_minor": 0,
  "metadata": {
    "colab": {
      "provenance": []
    },
    "kernelspec": {
      "name": "python3",
      "display_name": "Python 3"
    },
    "language_info": {
      "name": "python"
    }
  },
  "cells": [
    {
      "cell_type": "code",
      "execution_count": null,
      "metadata": {
        "colab": {
          "base_uri": "https://localhost:8080/"
        },
        "id": "el0b5KVI-tdo",
        "outputId": "71f6458a-2392-49da-a46e-1ece09ef204e"
      },
      "outputs": [
        {
          "output_type": "stream",
          "name": "stdout",
          "text": [
            "Drive already mounted at /content/drive; to attempt to forcibly remount, call drive.mount(\"/content/drive\", force_remount=True).\n"
          ]
        }
      ],
      "source": [
        "from google.colab import drive\n",
        "drive.mount('/content/drive')"
      ]
    },
    {
      "cell_type": "code",
      "source": [
        "# @title\n",
        "# Imports\n",
        "\n",
        "from IPython.core.interactiveshell import InteractiveShell\n",
        "InteractiveShell.ast_node_interactivity = \"all\"\n",
        "\n",
        "## 1. Logistic Regression\n",
        "from sklearn.linear_model import LogisticRegression\n",
        "## 2. Support Vector Machine\n",
        "from sklearn.svm import SVC\n",
        "## 3. Feed forward neural network or multi-layered perceptron\n",
        "from sklearn.neural_network import MLPClassifier\n",
        "\n",
        "from sklearn.feature_extraction.text import CountVectorizer\n",
        "# compute \"goodness\" of classification through accuracy\n",
        "from sklearn.metrics import accuracy_score, precision_score, recall_score\n",
        "\n",
        "import nltk\n",
        "from sklearn.feature_extraction.text import CountVectorizer\n",
        "from textblob import TextBlob\n",
        "from nltk import word_tokenize, pos_tag\n",
        "\n",
        "nltk.download('averaged_perceptron_tagger')\n",
        "\n",
        "import nltk\n",
        "from nltk.corpus import words\n",
        "nltk.download('punkt')\n",
        "from nltk.tokenize import word_tokenize\n",
        "\n",
        "from nltk.stem import PorterStemmer\n",
        "import ast\n",
        "\n",
        "nltk.download('wordnet')\n",
        "from nltk.stem import WordNetLemmatizer\n",
        "\n",
        "nltk.download('stopwords')\n",
        "\n",
        "from nltk.corpus import stopwords\n",
        "\n",
        "from sklearn.feature_extraction.text import TfidfVectorizer\n",
        "from sklearn.metrics import confusion_matrix\n",
        "from sklearn.preprocessing import LabelEncoder\n",
        "\n",
        "import numpy as np\n",
        "import pandas as pd\n",
        "import re\n",
        "\n",
        "import matplotlib\n",
        "import matplotlib.pyplot as plt\n",
        "import seaborn as sns\n",
        "\n",
        "import scipy.sparse as sp"
      ],
      "metadata": {
        "colab": {
          "base_uri": "https://localhost:8080/"
        },
        "id": "qUUhMrak_aXy",
        "outputId": "62baa59f-2e0a-4297-fd88-81d670f5d284"
      },
      "execution_count": null,
      "outputs": [
        {
          "output_type": "stream",
          "name": "stderr",
          "text": [
            "[nltk_data] Downloading package averaged_perceptron_tagger to\n",
            "[nltk_data]     /root/nltk_data...\n",
            "[nltk_data]   Package averaged_perceptron_tagger is already up-to-\n",
            "[nltk_data]       date!\n"
          ]
        },
        {
          "output_type": "execute_result",
          "data": {
            "text/plain": [
              "True"
            ]
          },
          "metadata": {},
          "execution_count": 33
        },
        {
          "output_type": "stream",
          "name": "stderr",
          "text": [
            "[nltk_data] Downloading package punkt to /root/nltk_data...\n",
            "[nltk_data]   Package punkt is already up-to-date!\n"
          ]
        },
        {
          "output_type": "execute_result",
          "data": {
            "text/plain": [
              "True"
            ]
          },
          "metadata": {},
          "execution_count": 33
        },
        {
          "output_type": "stream",
          "name": "stderr",
          "text": [
            "[nltk_data] Downloading package wordnet to /root/nltk_data...\n",
            "[nltk_data]   Package wordnet is already up-to-date!\n"
          ]
        },
        {
          "output_type": "execute_result",
          "data": {
            "text/plain": [
              "True"
            ]
          },
          "metadata": {},
          "execution_count": 33
        },
        {
          "output_type": "stream",
          "name": "stderr",
          "text": [
            "[nltk_data] Downloading package stopwords to /root/nltk_data...\n",
            "[nltk_data]   Package stopwords is already up-to-date!\n"
          ]
        },
        {
          "output_type": "execute_result",
          "data": {
            "text/plain": [
              "True"
            ]
          },
          "metadata": {},
          "execution_count": 33
        }
      ]
    },
    {
      "cell_type": "code",
      "source": [
        "# @title\n",
        "# this is a one time download\n",
        "!wget -c http://nlp.stanford.edu/data/glove.6B.zip\n",
        "!unzip glove.6B.zip\n",
        "\n",
        "# do some necessary conversions\n",
        "!python -m gensim.scripts.glove2word2vec --input  glove.6B.200d.txt --output glove.6B.200d.vec\n",
        "!rm glove*.txt\n",
        "\n",
        "from gensim.models import KeyedVectors"
      ],
      "metadata": {
        "colab": {
          "base_uri": "https://localhost:8080/"
        },
        "id": "bwgcXCElAujo",
        "outputId": "02258499-373c-4e26-88fb-f1a2b7e63086"
      },
      "execution_count": null,
      "outputs": [
        {
          "output_type": "stream",
          "name": "stdout",
          "text": [
            "--2023-12-03 16:49:47--  http://nlp.stanford.edu/data/glove.6B.zip\n",
            "Resolving nlp.stanford.edu (nlp.stanford.edu)... 171.64.67.140\n",
            "Connecting to nlp.stanford.edu (nlp.stanford.edu)|171.64.67.140|:80... connected.\n",
            "HTTP request sent, awaiting response... 302 Found\n",
            "Location: https://nlp.stanford.edu/data/glove.6B.zip [following]\n",
            "--2023-12-03 16:49:48--  https://nlp.stanford.edu/data/glove.6B.zip\n",
            "Connecting to nlp.stanford.edu (nlp.stanford.edu)|171.64.67.140|:443... connected.\n",
            "HTTP request sent, awaiting response... 301 Moved Permanently\n",
            "Location: https://downloads.cs.stanford.edu/nlp/data/glove.6B.zip [following]\n",
            "--2023-12-03 16:49:48--  https://downloads.cs.stanford.edu/nlp/data/glove.6B.zip\n",
            "Resolving downloads.cs.stanford.edu (downloads.cs.stanford.edu)... 171.64.64.22\n",
            "Connecting to downloads.cs.stanford.edu (downloads.cs.stanford.edu)|171.64.64.22|:443... connected.\n",
            "HTTP request sent, awaiting response... 416 Requested Range Not Satisfiable\n",
            "\n",
            "    The file is already fully retrieved; nothing to do.\n",
            "\n",
            "Archive:  glove.6B.zip\n",
            "  inflating: glove.6B.50d.txt        \n",
            "  inflating: glove.6B.100d.txt       \n",
            "  inflating: glove.6B.200d.txt       \n",
            "  inflating: glove.6B.300d.txt       \n",
            "2023-12-03 16:50:33,965 - glove2word2vec - INFO - running /usr/local/lib/python3.10/dist-packages/gensim/scripts/glove2word2vec.py --input glove.6B.200d.txt --output glove.6B.200d.vec\n",
            "/usr/local/lib/python3.10/dist-packages/gensim/scripts/glove2word2vec.py:125: DeprecationWarning: Call to deprecated `glove2word2vec` (KeyedVectors.load_word2vec_format(.., binary=False, no_header=True) loads GLoVE text vectors.).\n",
            "  num_lines, num_dims = glove2word2vec(args.input, args.output)\n",
            "2023-12-03 16:50:33,967 - keyedvectors - INFO - loading projection weights from glove.6B.200d.txt\n",
            "2023-12-03 16:51:37,699 - utils - INFO - KeyedVectors lifecycle event {'msg': 'loaded (400000, 200) matrix of type float32 from glove.6B.200d.txt', 'binary': False, 'encoding': 'utf8', 'datetime': '2023-12-03T16:51:37.696579', 'gensim': '4.3.2', 'python': '3.10.12 (main, Nov 20 2023, 15:14:05) [GCC 11.4.0]', 'platform': 'Linux-5.15.120+-x86_64-with-glibc2.35', 'event': 'load_word2vec_format'}\n",
            "2023-12-03 16:51:37,699 - glove2word2vec - INFO - converting 400000 vectors from glove.6B.200d.txt to glove.6B.200d.vec\n",
            "2023-12-03 16:51:38,299 - keyedvectors - INFO - storing 400000x200 projection weights into glove.6B.200d.vec\n",
            "2023-12-03 16:52:35,472 - glove2word2vec - INFO - Converted model with 400000 vectors and 200 dimensions\n"
          ]
        }
      ]
    },
    {
      "cell_type": "markdown",
      "source": [
        "### Read Twitter Data"
      ],
      "metadata": {
        "id": "yGewtQbCjdur"
      }
    },
    {
      "cell_type": "code",
      "source": [
        "import os\n",
        "tw_translated_file_path = '/content/drive/MyDrive/NLP Project/processed_data/tw_tweets_clean_translated_new.csv'"
      ],
      "metadata": {
        "id": "Z_g2xc9e-0k-"
      },
      "execution_count": null,
      "outputs": []
    },
    {
      "cell_type": "code",
      "source": [
        "df_tw = pd.read_csv(tw_translated_file_path)\n",
        "df_tw = df_tw[['translated text', 'class']]\n",
        "df_tw"
      ],
      "metadata": {
        "colab": {
          "base_uri": "https://localhost:8080/",
          "height": 424
        },
        "id": "qpTB_IFu-4zc",
        "outputId": "c3e67cad-0c8b-4fc4-a46f-97d3e58be376"
      },
      "execution_count": null,
      "outputs": [
        {
          "output_type": "execute_result",
          "data": {
            "text/plain": [
              "                                        translated text class\n",
              "0             Your father is Bambani bambani Not Ambani   CAG\n",
              "1     Today, there is a happy job when the wicket is...   NAG\n",
              "2     You are flying so much for years by hitting a ...   OAG\n",
              "3     RT Watch MSG The Messenger is amazing everyone...   NAG\n",
              "4                                                  Shit   CAG\n",
              "...                                                 ...   ...\n",
              "1189  Some are so sad with some time, all three time...   OAG\n",
              "1190  One is also family parrot fuckin First handle ...   OAG\n",
              "1191  The Swach Bharat Abhiyan has started from Delh...   OAG\n",
              "1192  What did these devotees become? Charminar's st...   OAG\n",
              "1193  The members of the African team are also right...   CAG\n",
              "\n",
              "[1194 rows x 2 columns]"
            ],
            "text/html": [
              "\n",
              "  <div id=\"df-0aa1d203-733d-440b-8c6e-beaccef38c03\" class=\"colab-df-container\">\n",
              "    <div>\n",
              "<style scoped>\n",
              "    .dataframe tbody tr th:only-of-type {\n",
              "        vertical-align: middle;\n",
              "    }\n",
              "\n",
              "    .dataframe tbody tr th {\n",
              "        vertical-align: top;\n",
              "    }\n",
              "\n",
              "    .dataframe thead th {\n",
              "        text-align: right;\n",
              "    }\n",
              "</style>\n",
              "<table border=\"1\" class=\"dataframe\">\n",
              "  <thead>\n",
              "    <tr style=\"text-align: right;\">\n",
              "      <th></th>\n",
              "      <th>translated text</th>\n",
              "      <th>class</th>\n",
              "    </tr>\n",
              "  </thead>\n",
              "  <tbody>\n",
              "    <tr>\n",
              "      <th>0</th>\n",
              "      <td>Your father is Bambani bambani Not Ambani</td>\n",
              "      <td>CAG</td>\n",
              "    </tr>\n",
              "    <tr>\n",
              "      <th>1</th>\n",
              "      <td>Today, there is a happy job when the wicket is...</td>\n",
              "      <td>NAG</td>\n",
              "    </tr>\n",
              "    <tr>\n",
              "      <th>2</th>\n",
              "      <td>You are flying so much for years by hitting a ...</td>\n",
              "      <td>OAG</td>\n",
              "    </tr>\n",
              "    <tr>\n",
              "      <th>3</th>\n",
              "      <td>RT Watch MSG The Messenger is amazing everyone...</td>\n",
              "      <td>NAG</td>\n",
              "    </tr>\n",
              "    <tr>\n",
              "      <th>4</th>\n",
              "      <td>Shit</td>\n",
              "      <td>CAG</td>\n",
              "    </tr>\n",
              "    <tr>\n",
              "      <th>...</th>\n",
              "      <td>...</td>\n",
              "      <td>...</td>\n",
              "    </tr>\n",
              "    <tr>\n",
              "      <th>1189</th>\n",
              "      <td>Some are so sad with some time, all three time...</td>\n",
              "      <td>OAG</td>\n",
              "    </tr>\n",
              "    <tr>\n",
              "      <th>1190</th>\n",
              "      <td>One is also family parrot fuckin First handle ...</td>\n",
              "      <td>OAG</td>\n",
              "    </tr>\n",
              "    <tr>\n",
              "      <th>1191</th>\n",
              "      <td>The Swach Bharat Abhiyan has started from Delh...</td>\n",
              "      <td>OAG</td>\n",
              "    </tr>\n",
              "    <tr>\n",
              "      <th>1192</th>\n",
              "      <td>What did these devotees become? Charminar's st...</td>\n",
              "      <td>OAG</td>\n",
              "    </tr>\n",
              "    <tr>\n",
              "      <th>1193</th>\n",
              "      <td>The members of the African team are also right...</td>\n",
              "      <td>CAG</td>\n",
              "    </tr>\n",
              "  </tbody>\n",
              "</table>\n",
              "<p>1194 rows × 2 columns</p>\n",
              "</div>\n",
              "    <div class=\"colab-df-buttons\">\n",
              "\n",
              "  <div class=\"colab-df-container\">\n",
              "    <button class=\"colab-df-convert\" onclick=\"convertToInteractive('df-0aa1d203-733d-440b-8c6e-beaccef38c03')\"\n",
              "            title=\"Convert this dataframe to an interactive table.\"\n",
              "            style=\"display:none;\">\n",
              "\n",
              "  <svg xmlns=\"http://www.w3.org/2000/svg\" height=\"24px\" viewBox=\"0 -960 960 960\">\n",
              "    <path d=\"M120-120v-720h720v720H120Zm60-500h600v-160H180v160Zm220 220h160v-160H400v160Zm0 220h160v-160H400v160ZM180-400h160v-160H180v160Zm440 0h160v-160H620v160ZM180-180h160v-160H180v160Zm440 0h160v-160H620v160Z\"/>\n",
              "  </svg>\n",
              "    </button>\n",
              "\n",
              "  <style>\n",
              "    .colab-df-container {\n",
              "      display:flex;\n",
              "      gap: 12px;\n",
              "    }\n",
              "\n",
              "    .colab-df-convert {\n",
              "      background-color: #E8F0FE;\n",
              "      border: none;\n",
              "      border-radius: 50%;\n",
              "      cursor: pointer;\n",
              "      display: none;\n",
              "      fill: #1967D2;\n",
              "      height: 32px;\n",
              "      padding: 0 0 0 0;\n",
              "      width: 32px;\n",
              "    }\n",
              "\n",
              "    .colab-df-convert:hover {\n",
              "      background-color: #E2EBFA;\n",
              "      box-shadow: 0px 1px 2px rgba(60, 64, 67, 0.3), 0px 1px 3px 1px rgba(60, 64, 67, 0.15);\n",
              "      fill: #174EA6;\n",
              "    }\n",
              "\n",
              "    .colab-df-buttons div {\n",
              "      margin-bottom: 4px;\n",
              "    }\n",
              "\n",
              "    [theme=dark] .colab-df-convert {\n",
              "      background-color: #3B4455;\n",
              "      fill: #D2E3FC;\n",
              "    }\n",
              "\n",
              "    [theme=dark] .colab-df-convert:hover {\n",
              "      background-color: #434B5C;\n",
              "      box-shadow: 0px 1px 3px 1px rgba(0, 0, 0, 0.15);\n",
              "      filter: drop-shadow(0px 1px 2px rgba(0, 0, 0, 0.3));\n",
              "      fill: #FFFFFF;\n",
              "    }\n",
              "  </style>\n",
              "\n",
              "    <script>\n",
              "      const buttonEl =\n",
              "        document.querySelector('#df-0aa1d203-733d-440b-8c6e-beaccef38c03 button.colab-df-convert');\n",
              "      buttonEl.style.display =\n",
              "        google.colab.kernel.accessAllowed ? 'block' : 'none';\n",
              "\n",
              "      async function convertToInteractive(key) {\n",
              "        const element = document.querySelector('#df-0aa1d203-733d-440b-8c6e-beaccef38c03');\n",
              "        const dataTable =\n",
              "          await google.colab.kernel.invokeFunction('convertToInteractive',\n",
              "                                                    [key], {});\n",
              "        if (!dataTable) return;\n",
              "\n",
              "        const docLinkHtml = 'Like what you see? Visit the ' +\n",
              "          '<a target=\"_blank\" href=https://colab.research.google.com/notebooks/data_table.ipynb>data table notebook</a>'\n",
              "          + ' to learn more about interactive tables.';\n",
              "        element.innerHTML = '';\n",
              "        dataTable['output_type'] = 'display_data';\n",
              "        await google.colab.output.renderOutput(dataTable, element);\n",
              "        const docLink = document.createElement('div');\n",
              "        docLink.innerHTML = docLinkHtml;\n",
              "        element.appendChild(docLink);\n",
              "      }\n",
              "    </script>\n",
              "  </div>\n",
              "\n",
              "\n",
              "<div id=\"df-7c232836-26b3-42f9-8c02-1451cce5b74d\">\n",
              "  <button class=\"colab-df-quickchart\" onclick=\"quickchart('df-7c232836-26b3-42f9-8c02-1451cce5b74d')\"\n",
              "            title=\"Suggest charts\"\n",
              "            style=\"display:none;\">\n",
              "\n",
              "<svg xmlns=\"http://www.w3.org/2000/svg\" height=\"24px\"viewBox=\"0 0 24 24\"\n",
              "     width=\"24px\">\n",
              "    <g>\n",
              "        <path d=\"M19 3H5c-1.1 0-2 .9-2 2v14c0 1.1.9 2 2 2h14c1.1 0 2-.9 2-2V5c0-1.1-.9-2-2-2zM9 17H7v-7h2v7zm4 0h-2V7h2v10zm4 0h-2v-4h2v4z\"/>\n",
              "    </g>\n",
              "</svg>\n",
              "  </button>\n",
              "\n",
              "<style>\n",
              "  .colab-df-quickchart {\n",
              "      --bg-color: #E8F0FE;\n",
              "      --fill-color: #1967D2;\n",
              "      --hover-bg-color: #E2EBFA;\n",
              "      --hover-fill-color: #174EA6;\n",
              "      --disabled-fill-color: #AAA;\n",
              "      --disabled-bg-color: #DDD;\n",
              "  }\n",
              "\n",
              "  [theme=dark] .colab-df-quickchart {\n",
              "      --bg-color: #3B4455;\n",
              "      --fill-color: #D2E3FC;\n",
              "      --hover-bg-color: #434B5C;\n",
              "      --hover-fill-color: #FFFFFF;\n",
              "      --disabled-bg-color: #3B4455;\n",
              "      --disabled-fill-color: #666;\n",
              "  }\n",
              "\n",
              "  .colab-df-quickchart {\n",
              "    background-color: var(--bg-color);\n",
              "    border: none;\n",
              "    border-radius: 50%;\n",
              "    cursor: pointer;\n",
              "    display: none;\n",
              "    fill: var(--fill-color);\n",
              "    height: 32px;\n",
              "    padding: 0;\n",
              "    width: 32px;\n",
              "  }\n",
              "\n",
              "  .colab-df-quickchart:hover {\n",
              "    background-color: var(--hover-bg-color);\n",
              "    box-shadow: 0 1px 2px rgba(60, 64, 67, 0.3), 0 1px 3px 1px rgba(60, 64, 67, 0.15);\n",
              "    fill: var(--button-hover-fill-color);\n",
              "  }\n",
              "\n",
              "  .colab-df-quickchart-complete:disabled,\n",
              "  .colab-df-quickchart-complete:disabled:hover {\n",
              "    background-color: var(--disabled-bg-color);\n",
              "    fill: var(--disabled-fill-color);\n",
              "    box-shadow: none;\n",
              "  }\n",
              "\n",
              "  .colab-df-spinner {\n",
              "    border: 2px solid var(--fill-color);\n",
              "    border-color: transparent;\n",
              "    border-bottom-color: var(--fill-color);\n",
              "    animation:\n",
              "      spin 1s steps(1) infinite;\n",
              "  }\n",
              "\n",
              "  @keyframes spin {\n",
              "    0% {\n",
              "      border-color: transparent;\n",
              "      border-bottom-color: var(--fill-color);\n",
              "      border-left-color: var(--fill-color);\n",
              "    }\n",
              "    20% {\n",
              "      border-color: transparent;\n",
              "      border-left-color: var(--fill-color);\n",
              "      border-top-color: var(--fill-color);\n",
              "    }\n",
              "    30% {\n",
              "      border-color: transparent;\n",
              "      border-left-color: var(--fill-color);\n",
              "      border-top-color: var(--fill-color);\n",
              "      border-right-color: var(--fill-color);\n",
              "    }\n",
              "    40% {\n",
              "      border-color: transparent;\n",
              "      border-right-color: var(--fill-color);\n",
              "      border-top-color: var(--fill-color);\n",
              "    }\n",
              "    60% {\n",
              "      border-color: transparent;\n",
              "      border-right-color: var(--fill-color);\n",
              "    }\n",
              "    80% {\n",
              "      border-color: transparent;\n",
              "      border-right-color: var(--fill-color);\n",
              "      border-bottom-color: var(--fill-color);\n",
              "    }\n",
              "    90% {\n",
              "      border-color: transparent;\n",
              "      border-bottom-color: var(--fill-color);\n",
              "    }\n",
              "  }\n",
              "</style>\n",
              "\n",
              "  <script>\n",
              "    async function quickchart(key) {\n",
              "      const quickchartButtonEl =\n",
              "        document.querySelector('#' + key + ' button');\n",
              "      quickchartButtonEl.disabled = true;  // To prevent multiple clicks.\n",
              "      quickchartButtonEl.classList.add('colab-df-spinner');\n",
              "      try {\n",
              "        const charts = await google.colab.kernel.invokeFunction(\n",
              "            'suggestCharts', [key], {});\n",
              "      } catch (error) {\n",
              "        console.error('Error during call to suggestCharts:', error);\n",
              "      }\n",
              "      quickchartButtonEl.classList.remove('colab-df-spinner');\n",
              "      quickchartButtonEl.classList.add('colab-df-quickchart-complete');\n",
              "    }\n",
              "    (() => {\n",
              "      let quickchartButtonEl =\n",
              "        document.querySelector('#df-7c232836-26b3-42f9-8c02-1451cce5b74d button');\n",
              "      quickchartButtonEl.style.display =\n",
              "        google.colab.kernel.accessAllowed ? 'block' : 'none';\n",
              "    })();\n",
              "  </script>\n",
              "</div>\n",
              "    </div>\n",
              "  </div>\n"
            ]
          },
          "metadata": {},
          "execution_count": 36
        }
      ]
    },
    {
      "cell_type": "markdown",
      "source": [
        "### Read facebook data"
      ],
      "metadata": {
        "id": "4CfmoAcaj5cW"
      }
    },
    {
      "cell_type": "code",
      "source": [
        "import os\n",
        "fb_translated_file_path = '/content/drive/MyDrive/NLP Project/processed_data/fb_comments_clean_translated_new.csv'"
      ],
      "metadata": {
        "id": "u40rBko1p_40"
      },
      "execution_count": null,
      "outputs": []
    },
    {
      "cell_type": "code",
      "source": [
        "df_fb = pd.read_csv(fb_translated_file_path)\n",
        "df_fb = df_fb[['translated text', 'class']]\n",
        "df_fb"
      ],
      "metadata": {
        "colab": {
          "base_uri": "https://localhost:8080/",
          "height": 424
        },
        "outputId": "e5405400-2983-471e-8352-ea325bfec7e2",
        "id": "8wSof6mfp_40"
      },
      "execution_count": null,
      "outputs": [
        {
          "output_type": "execute_result",
          "data": {
            "text/plain": [
              "                                       translated text class\n",
              "0      Abe Movi also, what is the insanity of religion   OAG\n",
              "1    Badnaam Gaat Dog's Aulad Madarchod Pakistani D...   OAG\n",
              "2    Modi ji, you will give this offer to the cum o...   CAG\n",
              "3    What happens, when someone becomes a Pand, the...   CAG\n",
              "4    Speak to the soldiers of our country Just see ...   CAG\n",
              "..                                                 ...   ...\n",
              "905  You put B, your name Bott Povered B Madh Adnan...   NAG\n",
              "906  Inkilab Zindabad Hindustan Zindabad Vande Mata...   NAG\n",
              "907  apki khushi \"ganesh_ji k kaan jaisi badi ho gu...   NAG\n",
              "908  Bangladesh is no longer the team that was earl...   NAG\n",
              "909  The right thing said, Dheeraj Dada felt that t...   NAG\n",
              "\n",
              "[910 rows x 2 columns]"
            ],
            "text/html": [
              "\n",
              "  <div id=\"df-ad54d32a-5210-46f3-9332-17ef0e9c751f\" class=\"colab-df-container\">\n",
              "    <div>\n",
              "<style scoped>\n",
              "    .dataframe tbody tr th:only-of-type {\n",
              "        vertical-align: middle;\n",
              "    }\n",
              "\n",
              "    .dataframe tbody tr th {\n",
              "        vertical-align: top;\n",
              "    }\n",
              "\n",
              "    .dataframe thead th {\n",
              "        text-align: right;\n",
              "    }\n",
              "</style>\n",
              "<table border=\"1\" class=\"dataframe\">\n",
              "  <thead>\n",
              "    <tr style=\"text-align: right;\">\n",
              "      <th></th>\n",
              "      <th>translated text</th>\n",
              "      <th>class</th>\n",
              "    </tr>\n",
              "  </thead>\n",
              "  <tbody>\n",
              "    <tr>\n",
              "      <th>0</th>\n",
              "      <td>Abe Movi also, what is the insanity of religion</td>\n",
              "      <td>OAG</td>\n",
              "    </tr>\n",
              "    <tr>\n",
              "      <th>1</th>\n",
              "      <td>Badnaam Gaat Dog's Aulad Madarchod Pakistani D...</td>\n",
              "      <td>OAG</td>\n",
              "    </tr>\n",
              "    <tr>\n",
              "      <th>2</th>\n",
              "      <td>Modi ji, you will give this offer to the cum o...</td>\n",
              "      <td>CAG</td>\n",
              "    </tr>\n",
              "    <tr>\n",
              "      <th>3</th>\n",
              "      <td>What happens, when someone becomes a Pand, the...</td>\n",
              "      <td>CAG</td>\n",
              "    </tr>\n",
              "    <tr>\n",
              "      <th>4</th>\n",
              "      <td>Speak to the soldiers of our country Just see ...</td>\n",
              "      <td>CAG</td>\n",
              "    </tr>\n",
              "    <tr>\n",
              "      <th>...</th>\n",
              "      <td>...</td>\n",
              "      <td>...</td>\n",
              "    </tr>\n",
              "    <tr>\n",
              "      <th>905</th>\n",
              "      <td>You put B, your name Bott Povered B Madh Adnan...</td>\n",
              "      <td>NAG</td>\n",
              "    </tr>\n",
              "    <tr>\n",
              "      <th>906</th>\n",
              "      <td>Inkilab Zindabad Hindustan Zindabad Vande Mata...</td>\n",
              "      <td>NAG</td>\n",
              "    </tr>\n",
              "    <tr>\n",
              "      <th>907</th>\n",
              "      <td>apki khushi \"ganesh_ji k kaan jaisi badi ho gu...</td>\n",
              "      <td>NAG</td>\n",
              "    </tr>\n",
              "    <tr>\n",
              "      <th>908</th>\n",
              "      <td>Bangladesh is no longer the team that was earl...</td>\n",
              "      <td>NAG</td>\n",
              "    </tr>\n",
              "    <tr>\n",
              "      <th>909</th>\n",
              "      <td>The right thing said, Dheeraj Dada felt that t...</td>\n",
              "      <td>NAG</td>\n",
              "    </tr>\n",
              "  </tbody>\n",
              "</table>\n",
              "<p>910 rows × 2 columns</p>\n",
              "</div>\n",
              "    <div class=\"colab-df-buttons\">\n",
              "\n",
              "  <div class=\"colab-df-container\">\n",
              "    <button class=\"colab-df-convert\" onclick=\"convertToInteractive('df-ad54d32a-5210-46f3-9332-17ef0e9c751f')\"\n",
              "            title=\"Convert this dataframe to an interactive table.\"\n",
              "            style=\"display:none;\">\n",
              "\n",
              "  <svg xmlns=\"http://www.w3.org/2000/svg\" height=\"24px\" viewBox=\"0 -960 960 960\">\n",
              "    <path d=\"M120-120v-720h720v720H120Zm60-500h600v-160H180v160Zm220 220h160v-160H400v160Zm0 220h160v-160H400v160ZM180-400h160v-160H180v160Zm440 0h160v-160H620v160ZM180-180h160v-160H180v160Zm440 0h160v-160H620v160Z\"/>\n",
              "  </svg>\n",
              "    </button>\n",
              "\n",
              "  <style>\n",
              "    .colab-df-container {\n",
              "      display:flex;\n",
              "      gap: 12px;\n",
              "    }\n",
              "\n",
              "    .colab-df-convert {\n",
              "      background-color: #E8F0FE;\n",
              "      border: none;\n",
              "      border-radius: 50%;\n",
              "      cursor: pointer;\n",
              "      display: none;\n",
              "      fill: #1967D2;\n",
              "      height: 32px;\n",
              "      padding: 0 0 0 0;\n",
              "      width: 32px;\n",
              "    }\n",
              "\n",
              "    .colab-df-convert:hover {\n",
              "      background-color: #E2EBFA;\n",
              "      box-shadow: 0px 1px 2px rgba(60, 64, 67, 0.3), 0px 1px 3px 1px rgba(60, 64, 67, 0.15);\n",
              "      fill: #174EA6;\n",
              "    }\n",
              "\n",
              "    .colab-df-buttons div {\n",
              "      margin-bottom: 4px;\n",
              "    }\n",
              "\n",
              "    [theme=dark] .colab-df-convert {\n",
              "      background-color: #3B4455;\n",
              "      fill: #D2E3FC;\n",
              "    }\n",
              "\n",
              "    [theme=dark] .colab-df-convert:hover {\n",
              "      background-color: #434B5C;\n",
              "      box-shadow: 0px 1px 3px 1px rgba(0, 0, 0, 0.15);\n",
              "      filter: drop-shadow(0px 1px 2px rgba(0, 0, 0, 0.3));\n",
              "      fill: #FFFFFF;\n",
              "    }\n",
              "  </style>\n",
              "\n",
              "    <script>\n",
              "      const buttonEl =\n",
              "        document.querySelector('#df-ad54d32a-5210-46f3-9332-17ef0e9c751f button.colab-df-convert');\n",
              "      buttonEl.style.display =\n",
              "        google.colab.kernel.accessAllowed ? 'block' : 'none';\n",
              "\n",
              "      async function convertToInteractive(key) {\n",
              "        const element = document.querySelector('#df-ad54d32a-5210-46f3-9332-17ef0e9c751f');\n",
              "        const dataTable =\n",
              "          await google.colab.kernel.invokeFunction('convertToInteractive',\n",
              "                                                    [key], {});\n",
              "        if (!dataTable) return;\n",
              "\n",
              "        const docLinkHtml = 'Like what you see? Visit the ' +\n",
              "          '<a target=\"_blank\" href=https://colab.research.google.com/notebooks/data_table.ipynb>data table notebook</a>'\n",
              "          + ' to learn more about interactive tables.';\n",
              "        element.innerHTML = '';\n",
              "        dataTable['output_type'] = 'display_data';\n",
              "        await google.colab.output.renderOutput(dataTable, element);\n",
              "        const docLink = document.createElement('div');\n",
              "        docLink.innerHTML = docLinkHtml;\n",
              "        element.appendChild(docLink);\n",
              "      }\n",
              "    </script>\n",
              "  </div>\n",
              "\n",
              "\n",
              "<div id=\"df-45d2163c-b9e7-4405-be60-1c00c02f96a4\">\n",
              "  <button class=\"colab-df-quickchart\" onclick=\"quickchart('df-45d2163c-b9e7-4405-be60-1c00c02f96a4')\"\n",
              "            title=\"Suggest charts\"\n",
              "            style=\"display:none;\">\n",
              "\n",
              "<svg xmlns=\"http://www.w3.org/2000/svg\" height=\"24px\"viewBox=\"0 0 24 24\"\n",
              "     width=\"24px\">\n",
              "    <g>\n",
              "        <path d=\"M19 3H5c-1.1 0-2 .9-2 2v14c0 1.1.9 2 2 2h14c1.1 0 2-.9 2-2V5c0-1.1-.9-2-2-2zM9 17H7v-7h2v7zm4 0h-2V7h2v10zm4 0h-2v-4h2v4z\"/>\n",
              "    </g>\n",
              "</svg>\n",
              "  </button>\n",
              "\n",
              "<style>\n",
              "  .colab-df-quickchart {\n",
              "      --bg-color: #E8F0FE;\n",
              "      --fill-color: #1967D2;\n",
              "      --hover-bg-color: #E2EBFA;\n",
              "      --hover-fill-color: #174EA6;\n",
              "      --disabled-fill-color: #AAA;\n",
              "      --disabled-bg-color: #DDD;\n",
              "  }\n",
              "\n",
              "  [theme=dark] .colab-df-quickchart {\n",
              "      --bg-color: #3B4455;\n",
              "      --fill-color: #D2E3FC;\n",
              "      --hover-bg-color: #434B5C;\n",
              "      --hover-fill-color: #FFFFFF;\n",
              "      --disabled-bg-color: #3B4455;\n",
              "      --disabled-fill-color: #666;\n",
              "  }\n",
              "\n",
              "  .colab-df-quickchart {\n",
              "    background-color: var(--bg-color);\n",
              "    border: none;\n",
              "    border-radius: 50%;\n",
              "    cursor: pointer;\n",
              "    display: none;\n",
              "    fill: var(--fill-color);\n",
              "    height: 32px;\n",
              "    padding: 0;\n",
              "    width: 32px;\n",
              "  }\n",
              "\n",
              "  .colab-df-quickchart:hover {\n",
              "    background-color: var(--hover-bg-color);\n",
              "    box-shadow: 0 1px 2px rgba(60, 64, 67, 0.3), 0 1px 3px 1px rgba(60, 64, 67, 0.15);\n",
              "    fill: var(--button-hover-fill-color);\n",
              "  }\n",
              "\n",
              "  .colab-df-quickchart-complete:disabled,\n",
              "  .colab-df-quickchart-complete:disabled:hover {\n",
              "    background-color: var(--disabled-bg-color);\n",
              "    fill: var(--disabled-fill-color);\n",
              "    box-shadow: none;\n",
              "  }\n",
              "\n",
              "  .colab-df-spinner {\n",
              "    border: 2px solid var(--fill-color);\n",
              "    border-color: transparent;\n",
              "    border-bottom-color: var(--fill-color);\n",
              "    animation:\n",
              "      spin 1s steps(1) infinite;\n",
              "  }\n",
              "\n",
              "  @keyframes spin {\n",
              "    0% {\n",
              "      border-color: transparent;\n",
              "      border-bottom-color: var(--fill-color);\n",
              "      border-left-color: var(--fill-color);\n",
              "    }\n",
              "    20% {\n",
              "      border-color: transparent;\n",
              "      border-left-color: var(--fill-color);\n",
              "      border-top-color: var(--fill-color);\n",
              "    }\n",
              "    30% {\n",
              "      border-color: transparent;\n",
              "      border-left-color: var(--fill-color);\n",
              "      border-top-color: var(--fill-color);\n",
              "      border-right-color: var(--fill-color);\n",
              "    }\n",
              "    40% {\n",
              "      border-color: transparent;\n",
              "      border-right-color: var(--fill-color);\n",
              "      border-top-color: var(--fill-color);\n",
              "    }\n",
              "    60% {\n",
              "      border-color: transparent;\n",
              "      border-right-color: var(--fill-color);\n",
              "    }\n",
              "    80% {\n",
              "      border-color: transparent;\n",
              "      border-right-color: var(--fill-color);\n",
              "      border-bottom-color: var(--fill-color);\n",
              "    }\n",
              "    90% {\n",
              "      border-color: transparent;\n",
              "      border-bottom-color: var(--fill-color);\n",
              "    }\n",
              "  }\n",
              "</style>\n",
              "\n",
              "  <script>\n",
              "    async function quickchart(key) {\n",
              "      const quickchartButtonEl =\n",
              "        document.querySelector('#' + key + ' button');\n",
              "      quickchartButtonEl.disabled = true;  // To prevent multiple clicks.\n",
              "      quickchartButtonEl.classList.add('colab-df-spinner');\n",
              "      try {\n",
              "        const charts = await google.colab.kernel.invokeFunction(\n",
              "            'suggestCharts', [key], {});\n",
              "      } catch (error) {\n",
              "        console.error('Error during call to suggestCharts:', error);\n",
              "      }\n",
              "      quickchartButtonEl.classList.remove('colab-df-spinner');\n",
              "      quickchartButtonEl.classList.add('colab-df-quickchart-complete');\n",
              "    }\n",
              "    (() => {\n",
              "      let quickchartButtonEl =\n",
              "        document.querySelector('#df-45d2163c-b9e7-4405-be60-1c00c02f96a4 button');\n",
              "      quickchartButtonEl.style.display =\n",
              "        google.colab.kernel.accessAllowed ? 'block' : 'none';\n",
              "    })();\n",
              "  </script>\n",
              "</div>\n",
              "    </div>\n",
              "  </div>\n"
            ]
          },
          "metadata": {},
          "execution_count": 69
        }
      ]
    },
    {
      "cell_type": "markdown",
      "source": [
        "### Read profanity list"
      ],
      "metadata": {
        "id": "HkwvuxeMymjl"
      }
    },
    {
      "cell_type": "code",
      "source": [
        "profanity_path = '/content/drive/MyDrive/NLP Project/data_nlp/Hinglish_Profanity_List.csv'\n",
        "profanity_list_df = pd.read_csv(profanity_path, names=['hinglish', 'english', 'score'], encoding='latin-1')\n",
        "profanity_list_df = profanity_list_df[['hinglish', 'english']]\n",
        "profanity_list_df"
      ],
      "metadata": {
        "colab": {
          "base_uri": "https://localhost:8080/",
          "height": 424
        },
        "id": "jtDn2uGNylso",
        "outputId": "26da9ac7-f32d-49e3-acc8-9cef7014aaea"
      },
      "execution_count": null,
      "outputs": [
        {
          "output_type": "execute_result",
          "data": {
            "text/plain": [
              "       hinglish         english\n",
              "0         badir           idiot\n",
              "1    badirchand           idiot\n",
              "2       bakland           idiot\n",
              "3        bhadva            pimp\n",
              "4     bhootnika  son of a witch\n",
              "..          ...             ...\n",
              "204    vahiyaat      disgusting\n",
              "205      jihadi       terrorist\n",
              "206   atankvadi       terrorist\n",
              "207   atankwadi       terrorist\n",
              "208     aatanki        terorist\n",
              "\n",
              "[209 rows x 2 columns]"
            ],
            "text/html": [
              "\n",
              "  <div id=\"df-8dda6931-ec9f-4c57-bd08-b563a2a88dc4\" class=\"colab-df-container\">\n",
              "    <div>\n",
              "<style scoped>\n",
              "    .dataframe tbody tr th:only-of-type {\n",
              "        vertical-align: middle;\n",
              "    }\n",
              "\n",
              "    .dataframe tbody tr th {\n",
              "        vertical-align: top;\n",
              "    }\n",
              "\n",
              "    .dataframe thead th {\n",
              "        text-align: right;\n",
              "    }\n",
              "</style>\n",
              "<table border=\"1\" class=\"dataframe\">\n",
              "  <thead>\n",
              "    <tr style=\"text-align: right;\">\n",
              "      <th></th>\n",
              "      <th>hinglish</th>\n",
              "      <th>english</th>\n",
              "    </tr>\n",
              "  </thead>\n",
              "  <tbody>\n",
              "    <tr>\n",
              "      <th>0</th>\n",
              "      <td>badir</td>\n",
              "      <td>idiot</td>\n",
              "    </tr>\n",
              "    <tr>\n",
              "      <th>1</th>\n",
              "      <td>badirchand</td>\n",
              "      <td>idiot</td>\n",
              "    </tr>\n",
              "    <tr>\n",
              "      <th>2</th>\n",
              "      <td>bakland</td>\n",
              "      <td>idiot</td>\n",
              "    </tr>\n",
              "    <tr>\n",
              "      <th>3</th>\n",
              "      <td>bhadva</td>\n",
              "      <td>pimp</td>\n",
              "    </tr>\n",
              "    <tr>\n",
              "      <th>4</th>\n",
              "      <td>bhootnika</td>\n",
              "      <td>son of a witch</td>\n",
              "    </tr>\n",
              "    <tr>\n",
              "      <th>...</th>\n",
              "      <td>...</td>\n",
              "      <td>...</td>\n",
              "    </tr>\n",
              "    <tr>\n",
              "      <th>204</th>\n",
              "      <td>vahiyaat</td>\n",
              "      <td>disgusting</td>\n",
              "    </tr>\n",
              "    <tr>\n",
              "      <th>205</th>\n",
              "      <td>jihadi</td>\n",
              "      <td>terrorist</td>\n",
              "    </tr>\n",
              "    <tr>\n",
              "      <th>206</th>\n",
              "      <td>atankvadi</td>\n",
              "      <td>terrorist</td>\n",
              "    </tr>\n",
              "    <tr>\n",
              "      <th>207</th>\n",
              "      <td>atankwadi</td>\n",
              "      <td>terrorist</td>\n",
              "    </tr>\n",
              "    <tr>\n",
              "      <th>208</th>\n",
              "      <td>aatanki</td>\n",
              "      <td>terorist</td>\n",
              "    </tr>\n",
              "  </tbody>\n",
              "</table>\n",
              "<p>209 rows × 2 columns</p>\n",
              "</div>\n",
              "    <div class=\"colab-df-buttons\">\n",
              "\n",
              "  <div class=\"colab-df-container\">\n",
              "    <button class=\"colab-df-convert\" onclick=\"convertToInteractive('df-8dda6931-ec9f-4c57-bd08-b563a2a88dc4')\"\n",
              "            title=\"Convert this dataframe to an interactive table.\"\n",
              "            style=\"display:none;\">\n",
              "\n",
              "  <svg xmlns=\"http://www.w3.org/2000/svg\" height=\"24px\" viewBox=\"0 -960 960 960\">\n",
              "    <path d=\"M120-120v-720h720v720H120Zm60-500h600v-160H180v160Zm220 220h160v-160H400v160Zm0 220h160v-160H400v160ZM180-400h160v-160H180v160Zm440 0h160v-160H620v160ZM180-180h160v-160H180v160Zm440 0h160v-160H620v160Z\"/>\n",
              "  </svg>\n",
              "    </button>\n",
              "\n",
              "  <style>\n",
              "    .colab-df-container {\n",
              "      display:flex;\n",
              "      gap: 12px;\n",
              "    }\n",
              "\n",
              "    .colab-df-convert {\n",
              "      background-color: #E8F0FE;\n",
              "      border: none;\n",
              "      border-radius: 50%;\n",
              "      cursor: pointer;\n",
              "      display: none;\n",
              "      fill: #1967D2;\n",
              "      height: 32px;\n",
              "      padding: 0 0 0 0;\n",
              "      width: 32px;\n",
              "    }\n",
              "\n",
              "    .colab-df-convert:hover {\n",
              "      background-color: #E2EBFA;\n",
              "      box-shadow: 0px 1px 2px rgba(60, 64, 67, 0.3), 0px 1px 3px 1px rgba(60, 64, 67, 0.15);\n",
              "      fill: #174EA6;\n",
              "    }\n",
              "\n",
              "    .colab-df-buttons div {\n",
              "      margin-bottom: 4px;\n",
              "    }\n",
              "\n",
              "    [theme=dark] .colab-df-convert {\n",
              "      background-color: #3B4455;\n",
              "      fill: #D2E3FC;\n",
              "    }\n",
              "\n",
              "    [theme=dark] .colab-df-convert:hover {\n",
              "      background-color: #434B5C;\n",
              "      box-shadow: 0px 1px 3px 1px rgba(0, 0, 0, 0.15);\n",
              "      filter: drop-shadow(0px 1px 2px rgba(0, 0, 0, 0.3));\n",
              "      fill: #FFFFFF;\n",
              "    }\n",
              "  </style>\n",
              "\n",
              "    <script>\n",
              "      const buttonEl =\n",
              "        document.querySelector('#df-8dda6931-ec9f-4c57-bd08-b563a2a88dc4 button.colab-df-convert');\n",
              "      buttonEl.style.display =\n",
              "        google.colab.kernel.accessAllowed ? 'block' : 'none';\n",
              "\n",
              "      async function convertToInteractive(key) {\n",
              "        const element = document.querySelector('#df-8dda6931-ec9f-4c57-bd08-b563a2a88dc4');\n",
              "        const dataTable =\n",
              "          await google.colab.kernel.invokeFunction('convertToInteractive',\n",
              "                                                    [key], {});\n",
              "        if (!dataTable) return;\n",
              "\n",
              "        const docLinkHtml = 'Like what you see? Visit the ' +\n",
              "          '<a target=\"_blank\" href=https://colab.research.google.com/notebooks/data_table.ipynb>data table notebook</a>'\n",
              "          + ' to learn more about interactive tables.';\n",
              "        element.innerHTML = '';\n",
              "        dataTable['output_type'] = 'display_data';\n",
              "        await google.colab.output.renderOutput(dataTable, element);\n",
              "        const docLink = document.createElement('div');\n",
              "        docLink.innerHTML = docLinkHtml;\n",
              "        element.appendChild(docLink);\n",
              "      }\n",
              "    </script>\n",
              "  </div>\n",
              "\n",
              "\n",
              "<div id=\"df-a88f3ca8-9f1f-475c-b309-2178b4aba865\">\n",
              "  <button class=\"colab-df-quickchart\" onclick=\"quickchart('df-a88f3ca8-9f1f-475c-b309-2178b4aba865')\"\n",
              "            title=\"Suggest charts\"\n",
              "            style=\"display:none;\">\n",
              "\n",
              "<svg xmlns=\"http://www.w3.org/2000/svg\" height=\"24px\"viewBox=\"0 0 24 24\"\n",
              "     width=\"24px\">\n",
              "    <g>\n",
              "        <path d=\"M19 3H5c-1.1 0-2 .9-2 2v14c0 1.1.9 2 2 2h14c1.1 0 2-.9 2-2V5c0-1.1-.9-2-2-2zM9 17H7v-7h2v7zm4 0h-2V7h2v10zm4 0h-2v-4h2v4z\"/>\n",
              "    </g>\n",
              "</svg>\n",
              "  </button>\n",
              "\n",
              "<style>\n",
              "  .colab-df-quickchart {\n",
              "      --bg-color: #E8F0FE;\n",
              "      --fill-color: #1967D2;\n",
              "      --hover-bg-color: #E2EBFA;\n",
              "      --hover-fill-color: #174EA6;\n",
              "      --disabled-fill-color: #AAA;\n",
              "      --disabled-bg-color: #DDD;\n",
              "  }\n",
              "\n",
              "  [theme=dark] .colab-df-quickchart {\n",
              "      --bg-color: #3B4455;\n",
              "      --fill-color: #D2E3FC;\n",
              "      --hover-bg-color: #434B5C;\n",
              "      --hover-fill-color: #FFFFFF;\n",
              "      --disabled-bg-color: #3B4455;\n",
              "      --disabled-fill-color: #666;\n",
              "  }\n",
              "\n",
              "  .colab-df-quickchart {\n",
              "    background-color: var(--bg-color);\n",
              "    border: none;\n",
              "    border-radius: 50%;\n",
              "    cursor: pointer;\n",
              "    display: none;\n",
              "    fill: var(--fill-color);\n",
              "    height: 32px;\n",
              "    padding: 0;\n",
              "    width: 32px;\n",
              "  }\n",
              "\n",
              "  .colab-df-quickchart:hover {\n",
              "    background-color: var(--hover-bg-color);\n",
              "    box-shadow: 0 1px 2px rgba(60, 64, 67, 0.3), 0 1px 3px 1px rgba(60, 64, 67, 0.15);\n",
              "    fill: var(--button-hover-fill-color);\n",
              "  }\n",
              "\n",
              "  .colab-df-quickchart-complete:disabled,\n",
              "  .colab-df-quickchart-complete:disabled:hover {\n",
              "    background-color: var(--disabled-bg-color);\n",
              "    fill: var(--disabled-fill-color);\n",
              "    box-shadow: none;\n",
              "  }\n",
              "\n",
              "  .colab-df-spinner {\n",
              "    border: 2px solid var(--fill-color);\n",
              "    border-color: transparent;\n",
              "    border-bottom-color: var(--fill-color);\n",
              "    animation:\n",
              "      spin 1s steps(1) infinite;\n",
              "  }\n",
              "\n",
              "  @keyframes spin {\n",
              "    0% {\n",
              "      border-color: transparent;\n",
              "      border-bottom-color: var(--fill-color);\n",
              "      border-left-color: var(--fill-color);\n",
              "    }\n",
              "    20% {\n",
              "      border-color: transparent;\n",
              "      border-left-color: var(--fill-color);\n",
              "      border-top-color: var(--fill-color);\n",
              "    }\n",
              "    30% {\n",
              "      border-color: transparent;\n",
              "      border-left-color: var(--fill-color);\n",
              "      border-top-color: var(--fill-color);\n",
              "      border-right-color: var(--fill-color);\n",
              "    }\n",
              "    40% {\n",
              "      border-color: transparent;\n",
              "      border-right-color: var(--fill-color);\n",
              "      border-top-color: var(--fill-color);\n",
              "    }\n",
              "    60% {\n",
              "      border-color: transparent;\n",
              "      border-right-color: var(--fill-color);\n",
              "    }\n",
              "    80% {\n",
              "      border-color: transparent;\n",
              "      border-right-color: var(--fill-color);\n",
              "      border-bottom-color: var(--fill-color);\n",
              "    }\n",
              "    90% {\n",
              "      border-color: transparent;\n",
              "      border-bottom-color: var(--fill-color);\n",
              "    }\n",
              "  }\n",
              "</style>\n",
              "\n",
              "  <script>\n",
              "    async function quickchart(key) {\n",
              "      const quickchartButtonEl =\n",
              "        document.querySelector('#' + key + ' button');\n",
              "      quickchartButtonEl.disabled = true;  // To prevent multiple clicks.\n",
              "      quickchartButtonEl.classList.add('colab-df-spinner');\n",
              "      try {\n",
              "        const charts = await google.colab.kernel.invokeFunction(\n",
              "            'suggestCharts', [key], {});\n",
              "      } catch (error) {\n",
              "        console.error('Error during call to suggestCharts:', error);\n",
              "      }\n",
              "      quickchartButtonEl.classList.remove('colab-df-spinner');\n",
              "      quickchartButtonEl.classList.add('colab-df-quickchart-complete');\n",
              "    }\n",
              "    (() => {\n",
              "      let quickchartButtonEl =\n",
              "        document.querySelector('#df-a88f3ca8-9f1f-475c-b309-2178b4aba865 button');\n",
              "      quickchartButtonEl.style.display =\n",
              "        google.colab.kernel.accessAllowed ? 'block' : 'none';\n",
              "    })();\n",
              "  </script>\n",
              "</div>\n",
              "    </div>\n",
              "  </div>\n"
            ]
          },
          "metadata": {},
          "execution_count": 128
        }
      ]
    },
    {
      "cell_type": "code",
      "source": [
        "hinglish_list = profanity_list_df['hinglish']\n",
        "english_list = profanity_list_df['english']"
      ],
      "metadata": {
        "id": "6mYDQdaI1PHV"
      },
      "execution_count": null,
      "outputs": []
    },
    {
      "cell_type": "markdown",
      "source": [
        "### Pre-process Data"
      ],
      "metadata": {
        "id": "wJxYZkUfjiOc"
      }
    },
    {
      "cell_type": "code",
      "source": [
        "# Train Test Split\n",
        "from sklearn.model_selection import train_test_split\n",
        "\n",
        "X = pd.concat([df_tw['translated text'], df_fb['translated text']], ignore_index=True)\n",
        "y = pd.concat([df_tw['class'], df_fb['class']], ignore_index=True)\n",
        "X_train, X_test, y_train, y_test = train_test_split(X, y, test_size=0.2, random_state=42)"
      ],
      "metadata": {
        "id": "GbseQow2BaR5"
      },
      "execution_count": null,
      "outputs": []
    },
    {
      "cell_type": "code",
      "source": [
        "def remove_special_chars(list_text):\n",
        "  clean_text_list = []\n",
        "  for text in list_text:\n",
        "    clean_text = text\n",
        "    #Remove URLs\n",
        "    clean_text = re.sub(r'http\\S+', '', clean_text)\n",
        "    #Remove mentions\n",
        "    clean_text = re.sub(r'@\\w+', '', clean_text)\n",
        "    #Remove hashtags\n",
        "    clean_text = re.sub(r'#\\w+', '', clean_text)\n",
        "    # Define a regular expression pattern to match symbols\n",
        "    pattern = r'[^\\w\\s]'\n",
        "    # Use the re.sub() function to replace matched patterns with an empty string\n",
        "    clean_text = re.sub(pattern, '', clean_text)\n",
        "    clean_text_list.append(clean_text)\n",
        "  return clean_text_list"
      ],
      "metadata": {
        "id": "6foBeLmoM--Y"
      },
      "execution_count": null,
      "outputs": []
    },
    {
      "cell_type": "code",
      "source": [
        "# Clean the text data by removing URLs, hashtags, and mentions.\n",
        "X_train = remove_special_chars(X_train)\n",
        "X_test = remove_special_chars(X_test)"
      ],
      "metadata": {
        "id": "NeVi3Fr60QI2"
      },
      "execution_count": null,
      "outputs": []
    },
    {
      "cell_type": "code",
      "source": [
        "import nltk\n",
        "from nltk.corpus import wordnet\n",
        "\n",
        "# Download the WordNet dataset\n",
        "nltk.download('wordnet')\n",
        "\n",
        "def is_english_word(word):\n",
        "    # Check if the word is in the WordNet dictionary\n",
        "    return wordnet.synsets(word)"
      ],
      "metadata": {
        "colab": {
          "base_uri": "https://localhost:8080/"
        },
        "id": "jc5w77MR1Jg4",
        "outputId": "07345290-bd76-4403-ea9f-5960db973e24"
      },
      "execution_count": null,
      "outputs": [
        {
          "output_type": "stream",
          "name": "stderr",
          "text": [
            "[nltk_data] Downloading package wordnet to /root/nltk_data...\n",
            "[nltk_data]   Package wordnet is already up-to-date!\n"
          ]
        },
        {
          "output_type": "execute_result",
          "data": {
            "text/plain": [
              "True"
            ]
          },
          "metadata": {},
          "execution_count": 132
        }
      ]
    },
    {
      "cell_type": "code",
      "source": [
        "import re\n",
        "# Substitute profanity words\n",
        "non_english_words = set()\n",
        "for text in X_train:\n",
        "  for token in text.split():\n",
        "    if not is_english_word(token):\n",
        "      non_english_words.add(token)\n",
        "\n",
        "non_english_words"
      ],
      "metadata": {
        "id": "EW82b1Gx6TY2"
      },
      "execution_count": null,
      "outputs": []
    },
    {
      "cell_type": "code",
      "source": [
        "import re\n",
        "# Substitute profanity words\n",
        "X_train_prof_checked = []\n",
        "for text in X_train:\n",
        "  checked_text_tokens = []\n",
        "  for token in text.split():\n",
        "    flag = False\n",
        "    if not is_english_word(token):\n",
        "      for i in range(0, len(hinglish_list)):\n",
        "        if (re.search(hinglish_list[i], token)):\n",
        "          checked_text_tokens.append(english_list[i])\n",
        "          print(token, ' ', hinglish_list[i], ' ', english_list[i])\n",
        "          flag = True\n",
        "          break\n",
        "      if not flag:\n",
        "        checked_text_tokens.append(token)\n",
        "    else:\n",
        "      checked_text_tokens.append(token)\n",
        "  X_train_prof_checked.append(\" \".join(checked_text_tokens))\n"
      ],
      "metadata": {
        "id": "m59yOpGy0Qye"
      },
      "execution_count": null,
      "outputs": []
    },
    {
      "cell_type": "code",
      "source": [
        "import re\n",
        "# Substitute profanity words\n",
        "X_test_prof_checked = []\n",
        "for text in X_test:\n",
        "  checked_text_tokens = []\n",
        "  for token in text.split():\n",
        "    flag = False\n",
        "    if not is_english_word(token):\n",
        "      for i in range(0, len(hinglish_list)):\n",
        "        if (re.search(hinglish_list[i], token)):\n",
        "          checked_text_tokens.append(english_list[i])\n",
        "          print(token, ' ', hinglish_list[i], ' ', english_list[i])\n",
        "          flag = True\n",
        "          break\n",
        "      if not flag:\n",
        "        checked_text_tokens.append(token)\n",
        "    else:\n",
        "      checked_text_tokens.append(token)\n",
        "  X_test_prof_checked.append(\" \".join(checked_text_tokens))"
      ],
      "metadata": {
        "id": "c3TR7s184ywD"
      },
      "execution_count": null,
      "outputs": []
    },
    {
      "cell_type": "code",
      "source": [
        "X_train[0:10]"
      ],
      "metadata": {
        "id": "R6hei59o3y76"
      },
      "execution_count": null,
      "outputs": []
    },
    {
      "cell_type": "code",
      "source": [
        "X_train_prof_checked[0:10]"
      ],
      "metadata": {
        "id": "LlTOQbRK32sJ"
      },
      "execution_count": null,
      "outputs": []
    },
    {
      "cell_type": "code",
      "source": [
        "# Tokenize the text data.\n",
        "\n",
        "# Tokenize training data\n",
        "X_train_tokenized = []\n",
        "for text in X_train_prof_checked:\n",
        "  X_train_tokenized.append(word_tokenize(text))\n",
        "\n",
        "# Tokenize test data\n",
        "X_test_tokenized = []\n",
        "for text in X_test_prof_checked:\n",
        "  X_test_tokenized.append(word_tokenize(text))\n",
        "\n",
        "# Remove stop words and lemmatize the text data.\n",
        "stop_words = set(stopwords.words('english'))\n",
        "\n",
        "X_train_tokenized_filtered = []\n",
        "for text in X_train_tokenized:\n",
        "  X_train_tokenized_filtered.append(\" \".join([word.lower() for word in text if word not in stop_words]))\n",
        "\n",
        "X_test_tokenized_filtered = []\n",
        "for text in X_test_tokenized:\n",
        "  X_test_tokenized_filtered.append(\" \".join([word.lower() for word in text if word not in stop_words]))"
      ],
      "metadata": {
        "id": "rcSOG61Q_scO"
      },
      "execution_count": null,
      "outputs": []
    },
    {
      "cell_type": "code",
      "source": [
        "# Encoding labels for traget variable\n",
        "label_encoder = LabelEncoder()\n",
        "\n",
        "print(y_train[0:5], y_test[0:5])\n",
        "\n",
        "y_train= label_encoder.fit_transform(y_train)\n",
        "y_test= label_encoder.fit_transform(y_test)\n",
        "\n",
        "y_train[0:5], y_test[0:5]"
      ],
      "metadata": {
        "colab": {
          "base_uri": "https://localhost:8080/"
        },
        "id": "OfqSFHmxBhPC",
        "outputId": "bb111608-28dc-4e74-f516-8bc5151df1a9"
      },
      "execution_count": null,
      "outputs": [
        {
          "output_type": "stream",
          "name": "stdout",
          "text": [
            "[1 0 2 2 1] [0 0 2 0 2]\n"
          ]
        },
        {
          "output_type": "execute_result",
          "data": {
            "text/plain": [
              "(array([1, 0, 2, 2, 1]), array([0, 0, 2, 0, 2]))"
            ]
          },
          "metadata": {},
          "execution_count": 154
        }
      ]
    },
    {
      "cell_type": "markdown",
      "source": [
        "CAG - 0, NAG - 1, OAG - 2"
      ],
      "metadata": {
        "id": "t6bwJjn4DViv"
      }
    },
    {
      "cell_type": "code",
      "source": [
        "# Save the processed data into two files\n",
        "train_lemmatized = pd.DataFrame({'tweet':X_train_tokenized_filtered, 'label':y_train})\n",
        "test_lemmatized = pd.DataFrame({'tweet':X_test_tokenized_filtered, 'label':y_test})"
      ],
      "metadata": {
        "id": "84qyb5RNBnSR"
      },
      "execution_count": null,
      "outputs": []
    },
    {
      "cell_type": "code",
      "source": [
        "# Before saving, removing the rows that are empty\n",
        "train_lemmatized = train_lemmatized[~train_lemmatized['tweet'].str.strip().eq(\"\")]\n",
        "test_lemmatized = test_lemmatized[~test_lemmatized['tweet'].str.strip().eq(\"\")]"
      ],
      "metadata": {
        "id": "B9hDc-Q4BqTr"
      },
      "execution_count": null,
      "outputs": []
    },
    {
      "cell_type": "code",
      "source": [
        "train_lemmatized"
      ],
      "metadata": {
        "id": "WNhdL35yBseU"
      },
      "execution_count": null,
      "outputs": []
    },
    {
      "cell_type": "code",
      "source": [
        "test_lemmatized"
      ],
      "metadata": {
        "id": "y0ePpJFxBt-R"
      },
      "execution_count": null,
      "outputs": []
    },
    {
      "cell_type": "code",
      "source": [
        "import os\n",
        "#Save DataFrame\n",
        "train_lemmatized.to_csv('/content/drive/MyDrive/NLP Project/processed_data/train_tweet_lemmatized.csv', index=False)\n",
        "test_lemmatized.to_csv('/content/drive/MyDrive/NLP Project/processed_data/test_tweet_lemmatized.csv', index=False)"
      ],
      "metadata": {
        "id": "QX_7HbypDpr-"
      },
      "execution_count": null,
      "outputs": []
    },
    {
      "cell_type": "code",
      "source": [
        "# Load data from section 1\n",
        "\n",
        "# Load the raw training and test dataset from the provided CSV files.\n",
        "training_data = pd.read_csv(\"/content/drive/MyDrive/NLP Project/processed_data/train_tweet_lemmatized.csv\")\n",
        "print (f\"Training Data: {len(training_data)} example\")\n",
        "training_data.head()\n",
        "\n",
        "test_data = pd.read_csv(\"/content/drive/MyDrive/NLP Project/processed_data/test_tweet_lemmatized.csv\")\n",
        "print (f\"Test Data: {len(test_data)} example\")\n",
        "test_data.head()\n",
        "\n",
        "# Extract text and labels\n",
        "X_train = training_data['tweet']\n",
        "y_train = training_data['label']\n",
        "X_test = test_data['tweet']\n",
        "y_test = test_data['label']"
      ],
      "metadata": {
        "id": "20-T4dpFD1HN"
      },
      "execution_count": null,
      "outputs": []
    },
    {
      "cell_type": "markdown",
      "source": [
        "#### Bag of Words Implementation"
      ],
      "metadata": {
        "id": "6C2ccd09Okgr"
      }
    },
    {
      "cell_type": "code",
      "source": [
        "X_train"
      ],
      "metadata": {
        "id": "9QDjH8-Q5LPH"
      },
      "execution_count": null,
      "outputs": []
    },
    {
      "cell_type": "code",
      "source": [
        "X_train = X_train.fillna('')"
      ],
      "metadata": {
        "id": "WYblj_M35aR4"
      },
      "execution_count": null,
      "outputs": []
    },
    {
      "cell_type": "code",
      "source": [
        "# Create a CountVectorizer for unigrams (bag of words)\n",
        "vectorizer = CountVectorizer()\n",
        "X_train_vec = vectorizer.fit_transform(X_train)\n",
        "X_test_vec = vectorizer.transform(X_test)"
      ],
      "metadata": {
        "id": "cGpOcQ6ELSqR"
      },
      "execution_count": null,
      "outputs": []
    },
    {
      "cell_type": "markdown",
      "source": [
        "#### N-gram features Implementation"
      ],
      "metadata": {
        "id": "fyT0vpLyOqpF"
      }
    },
    {
      "cell_type": "code",
      "source": [
        "# N-gram Features\n",
        "\n",
        "# Create a CountVectorizer with n-gram range (e.g., bigrams)\n",
        "# This will include both unigrams and bigrams\n",
        "\n",
        "vectorizer_bigram = CountVectorizer(ngram_range=(2, 2))\n",
        "X_train_vec_bigram = vectorizer_bigram.fit_transform(X_train)\n",
        "X_test_vec_bigram = vectorizer_bigram.transform(X_test)"
      ],
      "metadata": {
        "id": "_TiHL6XgNurE"
      },
      "execution_count": null,
      "outputs": []
    },
    {
      "cell_type": "markdown",
      "source": [
        "#### TF-IDF Implementation"
      ],
      "metadata": {
        "id": "d3iVw5CnOwVI"
      }
    },
    {
      "cell_type": "code",
      "source": [
        "# TF-IDF Features\n",
        "tfidf_vectorizer = TfidfVectorizer()\n",
        "X_train_vec_tfidf = tfidf_vectorizer.fit_transform(X_train)\n",
        "X_test_vec_tfidf = tfidf_vectorizer.transform(X_test)"
      ],
      "metadata": {
        "id": "TuQu2GhdNw30"
      },
      "execution_count": null,
      "outputs": []
    },
    {
      "cell_type": "markdown",
      "source": [
        "#### Glove Implementation"
      ],
      "metadata": {
        "id": "FYkvS5XfO_Ur"
      }
    },
    {
      "cell_type": "code",
      "source": [
        "# Load pre-trained GloVe embeddings\n",
        "word_vectors = KeyedVectors.load_word2vec_format('glove.6B.200d.vec', binary=False)\n",
        "\n",
        "# Define a function to calculate the average GloVe vector for a text\n",
        "def get_average_glove_vector(text):\n",
        "    vectors = [word_vectors[word] for word in text.split() if word in word_vectors]\n",
        "    if vectors:\n",
        "        return np.mean(vectors, axis=0)\n",
        "    else:\n",
        "        return np.zeros(word_vectors.vector_size)"
      ],
      "metadata": {
        "id": "M5mGENZJOUWb"
      },
      "execution_count": null,
      "outputs": []
    },
    {
      "cell_type": "code",
      "source": [
        "# Apply the function to the dataset\n",
        "X_train_glove = [get_average_glove_vector(text) for text in X_train]\n",
        "X_test_glove = [get_average_glove_vector(text) for text in X_test]"
      ],
      "metadata": {
        "id": "AqweTq9yTiUP"
      },
      "execution_count": null,
      "outputs": []
    },
    {
      "cell_type": "markdown",
      "source": [
        "#### Concatenate the above feature sets"
      ],
      "metadata": {
        "id": "uIQ66kakT0-z"
      }
    },
    {
      "cell_type": "code",
      "source": [
        "# Concatenate the above feature sets\n",
        "X_train_combined = sp.hstack([X_train_vec, X_train_vec_bigram, X_train_vec_tfidf, X_train_glove])\n",
        "X_test_combined = sp.hstack([X_test_vec, X_test_vec_bigram, X_test_vec_tfidf, X_test_glove])"
      ],
      "metadata": {
        "id": "rQxtQ2i5TsCh"
      },
      "execution_count": null,
      "outputs": []
    },
    {
      "cell_type": "code",
      "source": [
        "def train_and_evaluate_classifier(classifier, X_train, y_actual, X_test, y_test_actual):\n",
        "  classifier.fit(X_train, y_actual)\n",
        "  y_pred = classifier.predict(X_test)\n",
        "  accuracy = accuracy_score(y_test_actual, y_pred)\n",
        "  precision = precision_score(y_test_actual, y_pred, average=\"micro\")\n",
        "  recall = recall_score(y_test_actual, y_pred, average=\"micro\")\n",
        "  cf_matrix = confusion_matrix(y_test_actual, y_pred)\n",
        "  return accuracy, precision, recall, cf_matrix"
      ],
      "metadata": {
        "id": "iEXn9WJZHJr4"
      },
      "execution_count": null,
      "outputs": []
    },
    {
      "cell_type": "markdown",
      "source": [
        "### SVM CLassifier"
      ],
      "metadata": {
        "id": "L6-WMEW6jnqx"
      }
    },
    {
      "cell_type": "code",
      "source": [
        "svm_classifier = SVC(kernel=\"linear\")\n",
        "accuracy, precision, recall, cf_matrix = train_and_evaluate_classifier(svm_classifier, X_train_combined, y_train, X_test_combined, y_test)\n",
        "print (f\"Accuracy of SVM Classifier = {accuracy*100}%\")\n",
        "print(f\"\\nPrecision of SVM Classifier = {precision*100}%\")\n",
        "print(f\"\\nRecall of SVM Classifier = {recall*100}%\")"
      ],
      "metadata": {
        "colab": {
          "base_uri": "https://localhost:8080/"
        },
        "id": "OpwZwcvpHNPo",
        "outputId": "2bbf9acd-5251-45d2-928c-3f0647bdd83d"
      },
      "execution_count": null,
      "outputs": [
        {
          "output_type": "stream",
          "name": "stdout",
          "text": [
            "Accuracy of SVM Classifier = 51.543942992874115%\n",
            "\n",
            "Precision of SVM Classifier = 51.543942992874115%\n",
            "\n",
            "Recall of SVM Classifier = 51.543942992874115%\n"
          ]
        }
      ]
    },
    {
      "cell_type": "code",
      "source": [
        "sns.heatmap(cf_matrix, annot=True)\n",
        "plt.title(\"Confusion Matrix SVM Classifier\")\n",
        "plt.xlabel(\"Actual Values\")\n",
        "plt.ylabel(\"Predicted Values\")"
      ],
      "metadata": {
        "colab": {
          "base_uri": "https://localhost:8080/",
          "height": 508
        },
        "id": "Uy0ON2WSHO2n",
        "outputId": "4635073e-ccec-42f4-e0fc-02aad3334c5d"
      },
      "execution_count": null,
      "outputs": [
        {
          "output_type": "execute_result",
          "data": {
            "text/plain": [
              "<Axes: >"
            ]
          },
          "metadata": {},
          "execution_count": 173
        },
        {
          "output_type": "execute_result",
          "data": {
            "text/plain": [
              "Text(0.5, 1.0, 'Confusion Matrix SVM Classifier')"
            ]
          },
          "metadata": {},
          "execution_count": 173
        },
        {
          "output_type": "execute_result",
          "data": {
            "text/plain": [
              "Text(0.5, 23.52222222222222, 'Actual Values')"
            ]
          },
          "metadata": {},
          "execution_count": 173
        },
        {
          "output_type": "execute_result",
          "data": {
            "text/plain": [
              "Text(50.722222222222214, 0.5, 'Predicted Values')"
            ]
          },
          "metadata": {},
          "execution_count": 173
        },
        {
          "output_type": "display_data",
          "data": {
            "text/plain": [
              "<Figure size 640x480 with 2 Axes>"
            ],
            "image/png": "[encoded data removed]"
          },
          "metadata": {}
        }
      ]
    },
    {
      "cell_type": "markdown",
      "source": [
        "### Feed forward Network Classifier"
      ],
      "metadata": {
        "id": "bmNlGxHkUtQD"
      }
    },
    {
      "cell_type": "code",
      "source": [
        "mpl_classifier = MLPClassifier(random_state=1, max_iter=300)\n",
        "accuracy, precision, recall, cf_matrix = train_and_evaluate_classifier(mpl_classifier, X_train_combined, y_train, X_test_combined, y_test)\n",
        "print (f\"Accuracy of Feed forward Network Classier = {accuracy*100}%\")\n",
        "print(f\"\\nPrecision of Feed forward Network Classier = {precision*100}%\")\n",
        "print(f\"\\nRecall of Feed forward Network Classier = {recall*100}%\")"
      ],
      "metadata": {
        "colab": {
          "base_uri": "https://localhost:8080/"
        },
        "id": "tMpRlDivVVDv",
        "outputId": "55e594b5-e3b2-4a42-a7ca-69a0eb9cbd52"
      },
      "execution_count": null,
      "outputs": [
        {
          "output_type": "stream",
          "name": "stdout",
          "text": [
            "Accuracy of Feed forward Network Classier = 54.63182897862233%\n",
            "\n",
            "Precision of Feed forward Network Classier = 54.63182897862233%\n",
            "\n",
            "Recall of Feed forward Network Classier = 54.63182897862233%\n"
          ]
        }
      ]
    },
    {
      "cell_type": "code",
      "source": [
        "sns.heatmap(cf_matrix, annot=True)\n",
        "plt.title(\"Confusion Matrix Feed Forward Network Classifier\")\n",
        "plt.xlabel(\"Actual Values\")\n",
        "plt.ylabel(\"Predicted Values\")"
      ],
      "metadata": {
        "colab": {
          "base_uri": "https://localhost:8080/",
          "height": 508
        },
        "id": "6z3QIKvudEMM",
        "outputId": "6e6a6208-8340-4dce-c7f5-cd8d414bf327"
      },
      "execution_count": null,
      "outputs": [
        {
          "output_type": "execute_result",
          "data": {
            "text/plain": [
              "<Axes: >"
            ]
          },
          "metadata": {},
          "execution_count": 175
        },
        {
          "output_type": "execute_result",
          "data": {
            "text/plain": [
              "Text(0.5, 1.0, 'Confusion Matrix Feed Forward Network Classifier')"
            ]
          },
          "metadata": {},
          "execution_count": 175
        },
        {
          "output_type": "execute_result",
          "data": {
            "text/plain": [
              "Text(0.5, 23.52222222222222, 'Actual Values')"
            ]
          },
          "metadata": {},
          "execution_count": 175
        },
        {
          "output_type": "execute_result",
          "data": {
            "text/plain": [
              "Text(50.722222222222214, 0.5, 'Predicted Values')"
            ]
          },
          "metadata": {},
          "execution_count": 175
        },
        {
          "output_type": "display_data",
          "data": {
            "text/plain": [
              "<Figure size 640x480 with 2 Axes>"
            ],
            "image/png": "[encoded data removed]"
          },
          "metadata": {}
        }
      ]
    },
    {
      "cell_type": "markdown",
      "source": [
        "### Logistic Regression"
      ],
      "metadata": {
        "id": "dKB2Hpfrjuzx"
      }
    },
    {
      "cell_type": "code",
      "source": [
        "logistic_classifier = LogisticRegression()\n",
        "accuracy, precision, recall, cf_matrix = train_and_evaluate_classifier(logistic_classifier, X_train_combined, y_train, X_test_combined, y_test)\n",
        "print (f\"Accuracy of Logistic Regression Classifier = {accuracy*100}%\")\n",
        "print(f\"\\nPrecision of Logistic Regression Classifier = {precision*100}%\")\n",
        "print(f\"\\nRecall of Logistic Regression Classifier = {recall*100}%\")"
      ],
      "metadata": {
        "colab": {
          "base_uri": "https://localhost:8080/"
        },
        "id": "Sx3wsTX6UyRD",
        "outputId": "1f41fda2-0e6d-40c7-f5ea-5f1204f756de"
      },
      "execution_count": null,
      "outputs": [
        {
          "output_type": "stream",
          "name": "stdout",
          "text": [
            "Accuracy of Logistic Regression Classifier = 52.73159144893111%\n",
            "\n",
            "Precision of Logistic Regression Classifier = 52.73159144893111%\n",
            "\n",
            "Recall of Logistic Regression Classifier = 52.73159144893111%\n"
          ]
        },
        {
          "output_type": "stream",
          "name": "stderr",
          "text": [
            "/usr/local/lib/python3.10/dist-packages/sklearn/linear_model/_logistic.py:458: ConvergenceWarning: lbfgs failed to converge (status=1):\n",
            "STOP: TOTAL NO. of ITERATIONS REACHED LIMIT.\n",
            "\n",
            "Increase the number of iterations (max_iter) or scale the data as shown in:\n",
            "    https://scikit-learn.org/stable/modules/preprocessing.html\n",
            "Please also refer to the documentation for alternative solver options:\n",
            "    https://scikit-learn.org/stable/modules/linear_model.html#logistic-regression\n",
            "  n_iter_i = _check_optimize_result(\n"
          ]
        }
      ]
    },
    {
      "cell_type": "code",
      "source": [
        "# Ref : https://medium.com/@dtuk81/confusion-matrix-visualization-fc31e3f30fea\n",
        "sns.heatmap(cf_matrix, annot=True)\n",
        "plt.title(\"Confusion Matrix Logistic Regression Classifier\")\n",
        "plt.xlabel(\"Actual Values\")\n",
        "plt.ylabel(\"Predicted Values\")"
      ],
      "metadata": {
        "colab": {
          "base_uri": "https://localhost:8080/",
          "height": 508
        },
        "id": "Mjvw5cIxc97k",
        "outputId": "1e106eeb-9b72-4505-e121-5c1c53121641"
      },
      "execution_count": null,
      "outputs": [
        {
          "output_type": "execute_result",
          "data": {
            "text/plain": [
              "<Axes: >"
            ]
          },
          "metadata": {},
          "execution_count": 177
        },
        {
          "output_type": "execute_result",
          "data": {
            "text/plain": [
              "Text(0.5, 1.0, 'Confusion Matrix Logistic Regression Classifier')"
            ]
          },
          "metadata": {},
          "execution_count": 177
        },
        {
          "output_type": "execute_result",
          "data": {
            "text/plain": [
              "Text(0.5, 23.52222222222222, 'Actual Values')"
            ]
          },
          "metadata": {},
          "execution_count": 177
        },
        {
          "output_type": "execute_result",
          "data": {
            "text/plain": [
              "Text(50.722222222222214, 0.5, 'Predicted Values')"
            ]
          },
          "metadata": {},
          "execution_count": 177
        },
        {
          "output_type": "display_data",
          "data": {
            "text/plain": [
              "<Figure size 640x480 with 2 Axes>"
            ],
            "image/png": "[encoded data removed]"
          },
          "metadata": {}
        }
      ]
    },
    {
      "cell_type": "markdown",
      "source": [
        "### Ablation Study"
      ],
      "metadata": {
        "id": "bfuPsHq7lN1g"
      }
    },
    {
      "cell_type": "markdown",
      "source": [
        "#### Removing TF-IDF features"
      ],
      "metadata": {
        "id": "PeQ4qp8APL_I"
      }
    },
    {
      "cell_type": "code",
      "source": [
        "# Concatenate the feature sets except tfid\n",
        "X_train_combined = sp.hstack([X_train_vec, X_train_vec_bigram, X_train_glove])\n",
        "X_test_combined = sp.hstack([X_test_vec, X_test_vec_bigram, X_test_glove])\n",
        "\n",
        "# Train and evaluate the selected classifier after each feature removal.\n",
        "mpl_classifier = MLPClassifier(random_state=1, max_iter=300)\n",
        "accuracy, precision, recall, cf_matrix = train_and_evaluate_classifier(mpl_classifier, X_train_combined, y_train, X_test_combined, y_test)\n",
        "print (f\"Accuracy of Logistic Regression Classifier = {accuracy*100}%\")\n",
        "print(f\"\\nPrecision of Logistic Regression Classifier = {precision*100}%\")\n",
        "print(f\"\\nRecall of Logistic Regression Classifier = {recall*100}%\")\n"
      ],
      "metadata": {
        "colab": {
          "base_uri": "https://localhost:8080/"
        },
        "id": "GE7J_1cnXKMk",
        "outputId": "09f15e50-7192-49d1-fbbc-6328e60b3dd5"
      },
      "execution_count": null,
      "outputs": [
        {
          "output_type": "stream",
          "name": "stdout",
          "text": [
            "Accuracy of Logistic Regression Classifier = 54.39429928741093%\n",
            "\n",
            "Precision of Logistic Regression Classifier = 54.39429928741093%\n",
            "\n",
            "Recall of Logistic Regression Classifier = 54.39429928741093%\n"
          ]
        }
      ]
    },
    {
      "cell_type": "code",
      "source": [
        "sns.heatmap(cf_matrix, annot=True)\n",
        "plt.title(\"Confusion Matrix - Removing tfidf\")\n",
        "plt.xlabel(\"Actual Values\")\n",
        "plt.ylabel(\"Predicted Values\")"
      ],
      "metadata": {
        "colab": {
          "base_uri": "https://localhost:8080/",
          "height": 508
        },
        "id": "omSLXj33PDY-",
        "outputId": "d805a5c3-efaa-401f-ded3-824ea71474ed"
      },
      "execution_count": null,
      "outputs": [
        {
          "output_type": "execute_result",
          "data": {
            "text/plain": [
              "<Axes: >"
            ]
          },
          "metadata": {},
          "execution_count": 179
        },
        {
          "output_type": "execute_result",
          "data": {
            "text/plain": [
              "Text(0.5, 1.0, 'Confusion Matrix - Removing tfidf')"
            ]
          },
          "metadata": {},
          "execution_count": 179
        },
        {
          "output_type": "execute_result",
          "data": {
            "text/plain": [
              "Text(0.5, 23.52222222222222, 'Actual Values')"
            ]
          },
          "metadata": {},
          "execution_count": 179
        },
        {
          "output_type": "execute_result",
          "data": {
            "text/plain": [
              "Text(50.722222222222214, 0.5, 'Predicted Values')"
            ]
          },
          "metadata": {},
          "execution_count": 179
        },
        {
          "output_type": "display_data",
          "data": {
            "text/plain": [
              "<Figure size 640x480 with 2 Axes>"
            ],
            "image/png": "[encoded data removed]"
          },
          "metadata": {}
        }
      ]
    },
    {
      "cell_type": "markdown",
      "source": [
        "#### Removing Bag of words features"
      ],
      "metadata": {
        "id": "KMZki1K1PVCr"
      }
    },
    {
      "cell_type": "code",
      "source": [
        "# Concatenate the feature sets except bag of words\n",
        "X_train_combined = sp.hstack([X_train_vec_tfidf, X_train_vec_bigram, X_train_glove])\n",
        "X_test_combined = sp.hstack([X_test_vec_tfidf, X_test_vec_bigram, X_test_glove])\n",
        "\n",
        "# Train and evaluate the selected classifier after each feature removal.\n",
        "mpl_classifier = MLPClassifier(random_state=1, max_iter=300)\n",
        "accuracy, precision, recall, cf_matrix = train_and_evaluate_classifier(mpl_classifier, X_train_combined, y_train, X_test_combined, y_test)\n",
        "print (f\"Accuracy of Logistic Regression Classifier = {accuracy*100}%\")\n",
        "print(f\"\\nPrecision of Logistic Regression Classifier = {precision*100}%\")\n",
        "print(f\"\\nRecall of Logistic Regression Classifier = {recall*100}%\")\n"
      ],
      "metadata": {
        "colab": {
          "base_uri": "https://localhost:8080/"
        },
        "id": "LFGmcy6tP1IF",
        "outputId": "9fd4eede-358b-4f9b-e99f-0e03d016e0ea"
      },
      "execution_count": null,
      "outputs": [
        {
          "output_type": "stream",
          "name": "stdout",
          "text": [
            "Accuracy of Logistic Regression Classifier = 55.34441805225653%\n",
            "\n",
            "Precision of Logistic Regression Classifier = 55.34441805225653%\n",
            "\n",
            "Recall of Logistic Regression Classifier = 55.34441805225653%\n"
          ]
        }
      ]
    },
    {
      "cell_type": "code",
      "source": [
        "sns.heatmap(cf_matrix, annot=True)\n",
        "plt.title(\"Confusion Matrix - Removing Bag of words\")\n",
        "plt.xlabel(\"Actual Values\")\n",
        "plt.ylabel(\"Predicted Values\")"
      ],
      "metadata": {
        "colab": {
          "base_uri": "https://localhost:8080/",
          "height": 508
        },
        "id": "ghtvwclfQX9k",
        "outputId": "0539a253-26d5-4ec9-d7d4-c78be443655c"
      },
      "execution_count": null,
      "outputs": [
        {
          "output_type": "execute_result",
          "data": {
            "text/plain": [
              "<Axes: >"
            ]
          },
          "metadata": {},
          "execution_count": 181
        },
        {
          "output_type": "execute_result",
          "data": {
            "text/plain": [
              "Text(0.5, 1.0, 'Confusion Matrix - Removing Bag of words')"
            ]
          },
          "metadata": {},
          "execution_count": 181
        },
        {
          "output_type": "execute_result",
          "data": {
            "text/plain": [
              "Text(0.5, 23.52222222222222, 'Actual Values')"
            ]
          },
          "metadata": {},
          "execution_count": 181
        },
        {
          "output_type": "execute_result",
          "data": {
            "text/plain": [
              "Text(50.722222222222214, 0.5, 'Predicted Values')"
            ]
          },
          "metadata": {},
          "execution_count": 181
        },
        {
          "output_type": "display_data",
          "data": {
            "text/plain": [
              "<Figure size 640x480 with 2 Axes>"
            ],
            "image/png": "[encoded data removed]"
          },
          "metadata": {}
        }
      ]
    },
    {
      "cell_type": "markdown",
      "source": [
        "#### Removing N gram features"
      ],
      "metadata": {
        "id": "un9dVG4cPcYg"
      }
    },
    {
      "cell_type": "code",
      "source": [
        "# Concatenate the feature sets except bigrams\n",
        "X_train_combined = sp.hstack([X_train_vec_tfidf, X_train_vec, X_train_glove])\n",
        "X_test_combined = sp.hstack([X_test_vec_tfidf, X_test_vec, X_test_glove])\n",
        "\n",
        "# Train and evaluate the selected classifier after each feature removal.\n",
        "mpl_classifier = MLPClassifier(random_state=1, max_iter=300)\n",
        "accuracy, precision, recall, cf_matrix = train_and_evaluate_classifier(mpl_classifier, X_train_combined, y_train, X_test_combined, y_test)\n",
        "print (f\"Accuracy of Logistic Regression Classifier = {accuracy*100}%\")\n",
        "print(f\"\\nPrecision of Logistic Regression Classifier = {precision*100}%\")\n",
        "print(f\"\\nRecall of Logistic Regression Classifier = {recall*100}%\")"
      ],
      "metadata": {
        "colab": {
          "base_uri": "https://localhost:8080/"
        },
        "id": "qMB0nQfmQnyZ",
        "outputId": "a41742a2-c460-45b8-de5d-6b38f6667550"
      },
      "execution_count": null,
      "outputs": [
        {
          "output_type": "stream",
          "name": "stdout",
          "text": [
            "Accuracy of Logistic Regression Classifier = 52.25653206650831%\n",
            "\n",
            "Precision of Logistic Regression Classifier = 52.25653206650831%\n",
            "\n",
            "Recall of Logistic Regression Classifier = 52.25653206650831%\n"
          ]
        }
      ]
    },
    {
      "cell_type": "code",
      "source": [
        "sns.heatmap(cf_matrix, annot=True)\n",
        "plt.title(\"Confusion Matrix - Removing bigrams\")\n",
        "plt.xlabel(\"Actual Values\")\n",
        "plt.ylabel(\"Predicted Values\")"
      ],
      "metadata": {
        "colab": {
          "base_uri": "https://localhost:8080/",
          "height": 508
        },
        "id": "W5mbmM8_Qy1Y",
        "outputId": "2191be74-b99a-4cc1-de00-8c3a9cbef4f7"
      },
      "execution_count": null,
      "outputs": [
        {
          "output_type": "execute_result",
          "data": {
            "text/plain": [
              "<Axes: >"
            ]
          },
          "metadata": {},
          "execution_count": 183
        },
        {
          "output_type": "execute_result",
          "data": {
            "text/plain": [
              "Text(0.5, 1.0, 'Confusion Matrix - Removing bigrams')"
            ]
          },
          "metadata": {},
          "execution_count": 183
        },
        {
          "output_type": "execute_result",
          "data": {
            "text/plain": [
              "Text(0.5, 23.52222222222222, 'Actual Values')"
            ]
          },
          "metadata": {},
          "execution_count": 183
        },
        {
          "output_type": "execute_result",
          "data": {
            "text/plain": [
              "Text(50.722222222222214, 0.5, 'Predicted Values')"
            ]
          },
          "metadata": {},
          "execution_count": 183
        },
        {
          "output_type": "display_data",
          "data": {
            "text/plain": [
              "<Figure size 640x480 with 2 Axes>"
            ],
            "image/png": "[encoded data removed]"
          },
          "metadata": {}
        }
      ]
    },
    {
      "cell_type": "markdown",
      "source": [
        "#### Removing Glove-based features"
      ],
      "metadata": {
        "id": "2I_AaSqQPgq9"
      }
    },
    {
      "cell_type": "code",
      "source": [
        "# Concatenate the feature sets except glove features\n",
        "X_train_combined = sp.hstack([X_train_vec_tfidf, X_train_vec, X_train_vec_bigram])\n",
        "X_test_combined = sp.hstack([X_test_vec_tfidf, X_test_vec, X_test_vec_bigram])\n",
        "\n",
        "# Train and evaluate the selected classifier after each feature removal.\n",
        "mpl_classifier = MLPClassifier(random_state=1, max_iter=300)\n",
        "accuracy, precision, recall, cf_matrix = train_and_evaluate_classifier(mpl_classifier, X_train_combined, y_train, X_test_combined, y_test)\n",
        "print (f\"Accuracy of Logistic Regression Classifier = {accuracy*100}%\")\n",
        "print(f\"\\nPrecision of Logistic Regression Classifier = {precision*100}%\")\n",
        "print(f\"\\nRecall of Logistic Regression Classifier = {recall*100}%\")"
      ],
      "metadata": {
        "colab": {
          "base_uri": "https://localhost:8080/"
        },
        "id": "bGX-0IHDQ4aJ",
        "outputId": "0bd35d4d-66e5-4ff3-a3ca-08eb32ca72a3"
      },
      "execution_count": null,
      "outputs": [
        {
          "output_type": "stream",
          "name": "stdout",
          "text": [
            "Accuracy of Logistic Regression Classifier = 53.44418052256532%\n",
            "\n",
            "Precision of Logistic Regression Classifier = 53.44418052256532%\n",
            "\n",
            "Recall of Logistic Regression Classifier = 53.44418052256532%\n"
          ]
        }
      ]
    },
    {
      "cell_type": "code",
      "source": [
        "sns.heatmap(cf_matrix, annot=True)\n",
        "plt.title(\"Confusion Matrix - Removing Glove features\")\n",
        "plt.xlabel(\"Actual Values\")\n",
        "plt.ylabel(\"Predicted Values\")"
      ],
      "metadata": {
        "colab": {
          "base_uri": "https://localhost:8080/",
          "height": 508
        },
        "id": "rECa_ejSRTv_",
        "outputId": "52c20252-59c1-46be-dc37-070184cc3a60"
      },
      "execution_count": null,
      "outputs": [
        {
          "output_type": "execute_result",
          "data": {
            "text/plain": [
              "<Axes: >"
            ]
          },
          "metadata": {},
          "execution_count": 185
        },
        {
          "output_type": "execute_result",
          "data": {
            "text/plain": [
              "Text(0.5, 1.0, 'Confusion Matrix - Removing Glove features')"
            ]
          },
          "metadata": {},
          "execution_count": 185
        },
        {
          "output_type": "execute_result",
          "data": {
            "text/plain": [
              "Text(0.5, 23.52222222222222, 'Actual Values')"
            ]
          },
          "metadata": {},
          "execution_count": 185
        },
        {
          "output_type": "execute_result",
          "data": {
            "text/plain": [
              "Text(50.722222222222214, 0.5, 'Predicted Values')"
            ]
          },
          "metadata": {},
          "execution_count": 185
        },
        {
          "output_type": "display_data",
          "data": {
            "text/plain": [
              "<Figure size 640x480 with 2 Axes>"
            ],
            "image/png": "[encoded data removed]"
          },
          "metadata": {}
        }
      ]
    }
  ]
}